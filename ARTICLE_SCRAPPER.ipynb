{
  "nbformat": 4,
  "nbformat_minor": 0,
  "metadata": {
    "colab": {
      "name": "ARTICLE_SCRAPPER.ipynb",
      "provenance": [],
      "collapsed_sections": []
    },
    "kernelspec": {
      "name": "python3",
      "display_name": "Python 3"
    }
  },
  "cells": [
    {
      "cell_type": "code",
      "metadata": {
        "colab": {
          "base_uri": "https://localhost:8080/"
        },
        "id": "TRxzsAZuCOhk",
        "outputId": "457da79f-ea6c-40fc-b33c-8ea694afd04b"
      },
      "source": [
        "pip install newsapi-python\n"
      ],
      "execution_count": 1,
      "outputs": [
        {
          "output_type": "stream",
          "text": [
            "Collecting newsapi-python\n",
            "  Downloading https://files.pythonhosted.org/packages/de/9e/9050199ac7cbc755d1c49577fdaa5517901124b574264b3602a8b8028440/newsapi_python-0.2.6-py2.py3-none-any.whl\n",
            "Requirement already satisfied: requests<3.0.0 in /usr/local/lib/python3.7/dist-packages (from newsapi-python) (2.23.0)\n",
            "Requirement already satisfied: certifi>=2017.4.17 in /usr/local/lib/python3.7/dist-packages (from requests<3.0.0->newsapi-python) (2020.12.5)\n",
            "Requirement already satisfied: urllib3!=1.25.0,!=1.25.1,<1.26,>=1.21.1 in /usr/local/lib/python3.7/dist-packages (from requests<3.0.0->newsapi-python) (1.24.3)\n",
            "Requirement already satisfied: chardet<4,>=3.0.2 in /usr/local/lib/python3.7/dist-packages (from requests<3.0.0->newsapi-python) (3.0.4)\n",
            "Requirement already satisfied: idna<3,>=2.5 in /usr/local/lib/python3.7/dist-packages (from requests<3.0.0->newsapi-python) (2.10)\n",
            "Installing collected packages: newsapi-python\n",
            "Successfully installed newsapi-python-0.2.6\n"
          ],
          "name": "stdout"
        }
      ]
    },
    {
      "cell_type": "code",
      "metadata": {
        "id": "A6hGbd3-CZdh"
      },
      "source": [
        "from newsapi import NewsApiClient\n"
      ],
      "execution_count": 2,
      "outputs": []
    },
    {
      "cell_type": "code",
      "metadata": {
        "id": "pxcDjgjSCl_R"
      },
      "source": [
        "newsapi = NewsApiClient(api_key='115d82e6d6a94720adfb66c142dc8119')"
      ],
      "execution_count": 3,
      "outputs": []
    },
    {
      "cell_type": "code",
      "metadata": {
        "colab": {
          "base_uri": "https://localhost:8080/"
        },
        "id": "4uYATQGvCtSY",
        "outputId": "a7ed1951-c6a9-4044-9bdd-530e831f1095"
      },
      "source": [
        "news_sources = newsapi.get_sources()\n",
        "for source in news_sources['sources']:\n",
        "    print(source['name'])"
      ],
      "execution_count": 4,
      "outputs": [
        {
          "output_type": "stream",
          "text": [
            "ABC News\n",
            "ABC News (AU)\n",
            "Aftenposten\n",
            "Al Jazeera English\n",
            "ANSA.it\n",
            "Argaam\n",
            "Ars Technica\n",
            "Ary News\n",
            "Associated Press\n",
            "Australian Financial Review\n",
            "Axios\n",
            "BBC News\n",
            "BBC Sport\n",
            "Bild\n",
            "Blasting News (BR)\n",
            "Bleacher Report\n",
            "Bloomberg\n",
            "Breitbart News\n",
            "Business Insider\n",
            "Business Insider (UK)\n",
            "Buzzfeed\n",
            "CBC News\n",
            "CBS News\n",
            "CNN\n",
            "CNN Spanish\n",
            "Crypto Coins News\n",
            "Der Tagesspiegel\n",
            "Die Zeit\n",
            "El Mundo\n",
            "Engadget\n",
            "Entertainment Weekly\n",
            "ESPN\n",
            "ESPN Cric Info\n",
            "Financial Post\n",
            "Focus\n",
            "Football Italia\n",
            "Fortune\n",
            "FourFourTwo\n",
            "Fox News\n",
            "Fox Sports\n",
            "Globo\n",
            "Google News\n",
            "Google News (Argentina)\n",
            "Google News (Australia)\n",
            "Google News (Brasil)\n",
            "Google News (Canada)\n",
            "Google News (France)\n",
            "Google News (India)\n",
            "Google News (Israel)\n",
            "Google News (Italy)\n",
            "Google News (Russia)\n",
            "Google News (Saudi Arabia)\n",
            "Google News (UK)\n",
            "Göteborgs-Posten\n",
            "Gruenderszene\n",
            "Hacker News\n",
            "Handelsblatt\n",
            "IGN\n",
            "Il Sole 24 Ore\n",
            "Independent\n",
            "Infobae\n",
            "InfoMoney\n",
            "La Gaceta\n",
            "La Nacion\n",
            "La Repubblica\n",
            "Le Monde\n",
            "Lenta\n",
            "L'equipe\n",
            "Les Echos\n",
            "Libération\n",
            "Marca\n",
            "Mashable\n",
            "Medical News Today\n",
            "MSNBC\n",
            "MTV News\n",
            "MTV News (UK)\n",
            "National Geographic\n",
            "National Review\n",
            "NBC News\n",
            "News24\n",
            "New Scientist\n",
            "News.com.au\n",
            "Newsweek\n",
            "New York Magazine\n",
            "Next Big Future\n",
            "NFL News\n",
            "NHL News\n",
            "NRK\n",
            "Politico\n",
            "Polygon\n",
            "RBC\n",
            "Recode\n",
            "Reddit /r/all\n",
            "Reuters\n",
            "RT\n",
            "RTE\n",
            "RTL Nieuws\n",
            "SABQ\n",
            "Spiegel Online\n",
            "Svenska Dagbladet\n",
            "T3n\n",
            "TalkSport\n",
            "TechCrunch\n",
            "TechCrunch (CN)\n",
            "TechRadar\n",
            "The American Conservative\n",
            "The Globe And Mail\n",
            "The Hill\n",
            "The Hindu\n",
            "The Huffington Post\n",
            "The Irish Times\n",
            "The Jerusalem Post\n",
            "The Lad Bible\n",
            "The Next Web\n",
            "The Sport Bible\n",
            "The Times of India\n",
            "The Verge\n",
            "The Wall Street Journal\n",
            "The Washington Post\n",
            "The Washington Times\n",
            "Time\n",
            "USA Today\n",
            "Vice News\n",
            "Wired\n",
            "Wired.de\n",
            "Wirtschafts Woche\n",
            "Xinhua Net\n",
            "Ynet\n"
          ],
          "name": "stdout"
        }
      ]
    },
    {
      "cell_type": "code",
      "metadata": {
        "id": "PxJYoRxaCyL1",
        "colab": {
          "base_uri": "https://localhost:8080/"
        },
        "outputId": "37ab2c3d-5266-42d7-ffd5-c9185a61b85c"
      },
      "source": [
        "top_headlines = newsapi.get_top_headlines(\n",
        "    q='climate',\n",
        "    language='en',\n",
        ")\n",
        "for article in top_headlines['articles']:\n",
        "    print('Title : ',article['title'])\n",
        "    print('Description : ',article['description'],'\\n\\n')"
      ],
      "execution_count": 5,
      "outputs": [
        {
          "output_type": "stream",
          "text": [
            "Title :  Climate has shifted the axis of the Earth, study finds: Loss of water on land through ice melting and human-caused factors is changing the movement of the North and South poles - Science Daily\n",
            "Description :  Melting glaciers redistributed enough water to cause the direction of polar wander to turn and accelerate eastward during the mid-1990s, according to a new study. \n",
            "\n",
            "\n",
            "Title :  Biden’s big climate pledge: can it succeed, and what noticeable changes could it bring? - The Guardian\n",
            "Description :  The administration has pledged to cut US emissions by half by 2030, one of the most ambitious goals for a developed country \n",
            "\n",
            "\n",
            "Title :  Global reset on climate action leaves Scott Morrison looking like yesterday’s man - The Guardian\n",
            "Description :  At Joe Biden’s virtual summit, achieving net zero by 2050 was considered a given, not something you might do, possibly, if Matt Canavan lets you \n",
            "\n",
            "\n"
          ],
          "name": "stdout"
        }
      ]
    },
    {
      "cell_type": "code",
      "metadata": {
        "colab": {
          "base_uri": "https://localhost:8080/"
        },
        "id": "U_mZmlMWDEJf",
        "outputId": "ca1d4aa3-d161-405b-99b0-432993554c53"
      },
      "source": [
        "all_articles = newsapi.get_everything(\n",
        "    q='global warming',\n",
        "    language='en',   \n",
        ")\n",
        "for article in all_articles['articles']:\n",
        "    print('Source : ',article['source']['name'])\n",
        "    print('Title : ',article['title'])\n",
        "    print('Description : ',article['description'],'\\n\\n')"
      ],
      "execution_count": 8,
      "outputs": [
        {
          "output_type": "stream",
          "text": [
            "Source :  New York Times\n",
            "Title :  John Topping, 77, Dies; Early Advocate for Climate Action\n",
            "Description :  A former official of the Environmental Protection Agency, he was a Republican activist on global warming when it was an issue with bipartisan support \n",
            "\n",
            "\n",
            "Source :  The Verge\n",
            "Title :  The loneliest polar bear has company in a warming world\n",
            "Description :  The Loneliest Polar Bear: A True Story of Survival and Peril on the Edge of a Warming World by Kale Williams tells the stories of Nora, a polar bear raised in captivity, the native people who live in her ancestral home, and the history of climate change denia… \n",
            "\n",
            "\n",
            "Source :  New York Times\n",
            "Title :  Drillers Burned Off Gas at a Staggering Rate as Blackout Hit Texas\n",
            "Description :  Frigid temperatures last month froze pipelines and forced companies to flare vast amounts of planet-warming gases that they suddenly had nowhere to send. \n",
            "\n",
            "\n",
            "Source :  Mashable\n",
            "Title :  Why the sun isn't causing today's climate change\n",
            "Description :  Climate 101 is a Mashable series that answers provoking and salient questions about Earth’s warming climate.\n",
            "\n",
            "Yes, the sun is a profoundly important factor in Earth's climate. It always will be.\n",
            "But scientists, like those at NASA, know the sun isn't causing t… \n",
            "\n",
            "\n",
            "Source :  Reuters\n",
            "Title :  UPDATE 1-Wind industry warns not building enough to curb global warming - Reuters\n",
            "Description :  The world's wind power industry is falling far short of installing the capacity needed to limit global warming, a report by the Global Wind Energy Council (GWEC) showed. \n",
            "\n",
            "\n",
            "Source :  Reuters\n",
            "Title :  Wind industry warns not building enough to curb global warming - Reuters\n",
            "Description :  The world's wind power industry is falling far short of installing the capacity needed to limit global warming, a report by the Global Wind Energy Council (GWEC) showed. \n",
            "\n",
            "\n",
            "Source :  Reuters\n",
            "Title :  Factbox: Global climate schemes putting a price on carbon emissions - Reuters\n",
            "Description :  The United States, Japan and Canada announced more ambitious targets for reducing greenhouse gas emissions at a global climate summit on Thursday hosted by U.S. President Joe Biden, an event meant to spur big nations to combat global warming. \n",
            "\n",
            "\n",
            "Source :  Reuters\n",
            "Title :  Oil to hit $40 by 2030 if climate goals are met: consultancy - Reuters\n",
            "Description :  Global oil prices could drop to around $40 a barrel by 2030 if governments push to reduce fuel consumption in step with U.N.-backed plans to limit global warming, a leading energy consultancy said on Thursday. \n",
            "\n",
            "\n",
            "Source :  Reuters\n",
            "Title :  Oil companies defeat New York City appeal over global warming - Reuters\n",
            "Description :  A federal appeals court on Thursday rejected New York City's effort to hold five major oil companies liable for harm caused by global warming. \n",
            "\n",
            "\n",
            "Source :  Reuters\n",
            "Title :  'Chaotic' monsoons threaten India's farmers without climate action - Reuters\n",
            "Description :  Indian monsoons are likely to become stronger and more erratic if global warming continues unchecked, threatening farming and incomes across the region, researchers said on Wednesday. \n",
            "\n",
            "\n",
            "Source :  Gizmodo.com\n",
            "Title :  What the U.S.’s ‘Fair Share’ of Emissions Reductions Looks Like\n",
            "Description :  The U.S. is the largest historical contributor to planet-warming pollution, responsible for around a quarter of all carbon dioxide ever put in the atmosphere. In the pursuit of just international climate policy, remediating those emissions requires much more … \n",
            "\n",
            "\n",
            "Source :  Reuters\n",
            "Title :  Biden's climate duo of Kerry and McCarthy puts US back in global warming fight - Reuters\n",
            "Description :  An unlikely duo is steering President Joe Biden's efforts to restore U.S. credibility on fighting climate change: a patrician former presidential candidate and a plain-speaking, long-time civil servant – both with Boston roots and baseball loyalties. \n",
            "\n",
            "\n",
            "Source :  Reuters\n",
            "Title :  Biden's climate summit zeroes in on technology to help fight global warming - Reuters\n",
            "Description :  U.S. President Joe Biden's energy secretary told a climate summit clean technology is \"our generation's moonshot\" on Friday, the second and final day of an event that is seeking to rally world ambition to reduce global warming. \n",
            "\n",
            "\n",
            "Source :  Reuters\n",
            "Title :  Biden's climate summit zeroes in on technology to help fight global warming - Reuters\n",
            "Description :  U.S. President Joe Biden called on nations to work together on the transition to clean energy on Friday, the second and final day of a climate summit he is hosting that seeks to rally world ambition to reduce global warming. \n",
            "\n",
            "\n",
            "Source :  Reuters\n",
            "Title :  Breakingviews - Capital Calls - Merger bankers are just warming up - Reuters\n",
            "Description :  Breakingviews - Capital Calls - Merger bankers are just warming up  Reuters \n",
            "\n",
            "\n",
            "Source :  Reuters\n",
            "Title :  Climate change set to drive more deadly heat in South Asia - Reuters\n",
            "Description :  Deadly heatwaves in South Asia are likely to become more common in the future, with the region's exposure to lethal heat stress potentially nearly tripling if global warming isn't curbed, researchers said. \n",
            "\n",
            "\n",
            "Source :  Reuters\n",
            "Title :  Kerry spoke with Modi about mobilizing finance for shift to clean energy - Reuters\n",
            "Description :  U.S. climate envoy John Kerry said he spoke with India's Prime Minister Narendra Modi on Wednesday about how the United States could help mobilize finance to reduce risks in producing alternative energy in the fight against global warming. \n",
            "\n",
            "\n",
            "Source :  Reuters\n",
            "Title :  Kerry heads to Shanghai for climate talks ahead of Earth Day - Reuters UK\n",
            "Description :  U.S. climate envoy John Kerry will travel to China this week to discuss international efforts to tackle global warming, seeking to press his counterparts to make ambitious emissions reduction targets despite tension in the U.S.-China relationship. \n",
            "\n",
            "\n",
            "Source :  Reuters\n",
            "Title :  Tesla CEO Musk puts $100 mln jolt into quest for carbon removal - Reuters\n",
            "Description :  Billionaire entrepreneur Elon Musk on Thursday offered inventors $100 million in prize money to develop ways to fight global warming by removing carbon dioxide from the atmosphere or ocean. \n",
            "\n",
            "\n",
            "Source :  Reuters\n",
            "Title :  Match UK’s net zero targets, PM Johnson to tell Biden's climate summit - Reuters\n",
            "Description :  British Prime Minister Boris Johnson will on Thursday urge countries to match the United Kingdom’s target to deliver net zero carbon emissions by the middle of the century to limit global warming, his office said. \n",
            "\n",
            "\n"
          ],
          "name": "stdout"
        }
      ]
    },
    {
      "cell_type": "code",
      "metadata": {
        "id": "lxM2XpoeDRyy"
      },
      "source": [
        ""
      ],
      "execution_count": null,
      "outputs": []
    }
  ]
}